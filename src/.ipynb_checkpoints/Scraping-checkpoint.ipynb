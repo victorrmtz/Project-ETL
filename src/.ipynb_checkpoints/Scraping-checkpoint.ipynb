{
 "cells": [
  {
   "cell_type": "markdown",
   "id": "4194d3cb",
   "metadata": {},
   "source": [
    "## SCRAPING"
   ]
  },
  {
   "cell_type": "code",
   "execution_count": null,
   "id": "767c174e",
   "metadata": {},
   "outputs": [],
   "source": [
    "import pandas as pd\n",
    "from datetime import datetime\n",
    "import extraer as ex\n",
    "import asyncio\n",
    "import requests as req\n",
    "from selenium import webdriver\n",
    "from selenium.webdriver.common.by import By\n",
    "import time\n",
    "from webdriver_manager.chrome import ChromeDriverManager\n",
    "from tqdm.notebook import tqdm\n",
    "from selenium.webdriver.chrome.options import Options\n",
    "from joblib import Parallel, delayed\n",
    "# opciones del driver\n",
    "opciones=Options()\n",
    "\n",
    "# quita la bandera de ser robot\n",
    "opciones.add_experimental_option('excludeSwitches', ['enable-automation'])\n",
    "opciones.add_experimental_option('useAutomationExtension', False)\n",
    "opciones.headless=False    # si True, no aperece la ventana (headless=no visible)\n",
    "opciones.add_argument('--start-maximized')         # comienza maximizado\n",
    "\n",
    "# guardar las cookies\n",
    "#opciones.add_argument('user-data-dir=selenium')    # mantiene las coockies\n",
    "\n",
    "import warnings\n",
    "warnings.filterwarnings('ignore')  #Quitar prints de warnings\n",
    "\n",
    "pd.set_option('display.max_columns', None) #Imprimir todas las columnas"
   ]
  },
  {
   "cell_type": "code",
   "execution_count": null,
   "id": "b2270e05",
   "metadata": {},
   "outputs": [],
   "source": [
    "ex.scraping_matches()"
   ]
  },
  {
   "cell_type": "code",
   "execution_count": null,
   "id": "590fd97f",
   "metadata": {},
   "outputs": [],
   "source": [
    "ex.db_concat.head()"
   ]
  },
  {
   "cell_type": "code",
   "execution_count": null,
   "id": "f049c175",
   "metadata": {},
   "outputs": [],
   "source": [
    "ex.db_concat.shape"
   ]
  },
  {
   "cell_type": "code",
   "execution_count": null,
   "id": "95b04d65",
   "metadata": {},
   "outputs": [],
   "source": [
    "teams_stats = ['https://fbref.com/en/comps/12/stats/La-Liga-Stats',\n",
    "             'https://fbref.com/en/comps/12/2021-2022/stats/2021-2022-La-Liga-Stats',\n",
    "             'https://fbref.com/en/comps/12/2020-2021/stats/2020-2021-La-Liga-Stats',\n",
    "             'https://fbref.com/en/comps/12/2019-2020/stats/2019-2020-La-Liga-Stats',\n",
    "             'https://fbref.com/en/comps/12/2018-2019/stats/2018-2019-La-Liga-Stats',\n",
    "             'https://fbref.com/en/comps/12/2017-2018/stats/2017-2018-La-Liga-Stats',\n",
    "             'https://fbref.com/en/comps/12/2016-2017/stats/2016-2017-La-Liga-Stats',\n",
    "             'https://fbref.com/en/comps/12/2015-2016/stats/2015-2016-La-Liga-Stats',\n",
    "             'https://fbref.com/en/comps/12/2014-2015/stats/2014-2015-La-Liga-Stats',\n",
    "             'https://fbref.com/en/comps/12/2013-2014/stats/2013-2014-La-Liga-Stats',\n",
    "             'https://fbref.com/en/comps/12/2012-2013/stats/2012-2013-La-Liga-Stats',\n",
    "             'https://fbref.com/en/comps/12/2011-2012/stats/2011-2012-La-Liga-Stats',\n",
    "             'https://fbref.com/en/comps/12/2010-2011/stats/2010-2011-La-Liga-Stats',\n",
    "             'https://fbref.com/en/comps/12/2009-2010/stats/2009-2010-La-Liga-Stats',\n",
    "             'https://fbref.com/en/comps/12/2008-2009/stats/2008-2009-La-Liga-Stats',\n",
    "             'https://fbref.com/en/comps/12/2007-2008/stats/2007-2008-La-Liga-Stats',\n",
    "             'https://fbref.com/en/comps/12/2006-2007/stats/2006-2007-La-Liga-Stats',\n",
    "             'https://fbref.com/en/comps/12/2005-2006/stats/2005-2006-La-Liga-Stats']\n",
    "datos = []"
   ]
  },
  {
   "cell_type": "code",
   "execution_count": null,
   "id": "2bffe185",
   "metadata": {},
   "outputs": [],
   "source": [
    "datos+=Parallel(n_jobs=6, verbose=True)(delayed(ex.scraping_teams)(url) for url in tqdm(teams_stats))"
   ]
  },
  {
   "cell_type": "code",
   "execution_count": null,
   "id": "36e8a147",
   "metadata": {},
   "outputs": [],
   "source": [
    "cab = ex.scraping_cabe()"
   ]
  },
  {
   "cell_type": "code",
   "execution_count": null,
   "id": "46d88ecf",
   "metadata": {},
   "outputs": [],
   "source": [
    "cab"
   ]
  },
  {
   "cell_type": "code",
   "execution_count": null,
   "id": "c00c4f97",
   "metadata": {},
   "outputs": [],
   "source": [
    "flat_list = []\n",
    "\n",
    "for e in datos:\n",
    "    flat_list += e"
   ]
  },
  {
   "cell_type": "code",
   "execution_count": null,
   "id": "9ebbbeaf",
   "metadata": {},
   "outputs": [],
   "source": [
    "df_teams = pd.DataFrame(flat_list, columns=cab)\n",
    "df_teams.head()"
   ]
  },
  {
   "cell_type": "code",
   "execution_count": null,
   "id": "980d95a7",
   "metadata": {},
   "outputs": [],
   "source": [
    "print(\"Saving csv\")\n",
    "df_teams.to_csv(r'../data/teams.csv')\n",
    "print(\"File Saved\")"
   ]
  },
  {
   "cell_type": "code",
   "execution_count": null,
   "id": "5fc59e73",
   "metadata": {},
   "outputs": [],
   "source": [
    "PATH=ChromeDriverManager().install()\n",
    "driver = webdriver.Chrome(PATH,options = opciones)\n",
    "driver.get(teams_stats[0])\n",
    "time.sleep(2)\n",
    "\n",
    "acepto=driver.find_element(By.XPATH, '//*[@id=\"qc-cmp2-ui\"]/div[2]/div/button[3]')\n",
    "\n",
    "acepto.click()\n",
    "\n",
    "time.sleep(2) \n",
    "\n",
    "tabla=driver.find_elements(By.TAG_NAME,'table')[11]\n",
    "\n",
    "\n"
   ]
  },
  {
   "cell_type": "code",
   "execution_count": null,
   "id": "8ee1eaae",
   "metadata": {},
   "outputs": [],
   "source": [
    "filas=tabla.find_elements(By.TAG_NAME, 'tr')\n",
    "\n",
    "data=[]\n",
    "\n",
    "for f in filas[2:]:\n",
    "\n",
    "    ids = f.find_element(By.TAG_NAME, 'th')\n",
    "\n",
    "    elementos=f.find_elements(By.TAG_NAME, 'td') \n",
    "\n",
    "    tmp=[]\n",
    "    elementos.insert(0, ids)\n",
    "    for e in elementos:\n",
    "\n",
    "        tmp.append(e.text)\n",
    "\n",
    "    data.append(tmp)\n",
    "data"
   ]
  },
  {
   "cell_type": "code",
   "execution_count": null,
   "id": "c96d65ec",
   "metadata": {},
   "outputs": [],
   "source": [
    "datos2 = []"
   ]
  },
  {
   "cell_type": "code",
   "execution_count": null,
   "id": "8b1df91e",
   "metadata": {},
   "outputs": [],
   "source": [
    "datos2+=Parallel(n_jobs=6, verbose=True)(delayed(ex.scraping_players)(url) for url in tqdm(teams_stats))"
   ]
  },
  {
   "cell_type": "code",
   "execution_count": null,
   "id": "c29c464f",
   "metadata": {},
   "outputs": [],
   "source": []
  }
 ],
 "metadata": {
  "kernelspec": {
   "display_name": "Python 3 (ipykernel)",
   "language": "python",
   "name": "python3"
  },
  "language_info": {
   "codemirror_mode": {
    "name": "ipython",
    "version": 3
   },
   "file_extension": ".py",
   "mimetype": "text/x-python",
   "name": "python",
   "nbconvert_exporter": "python",
   "pygments_lexer": "ipython3",
   "version": "3.9.12"
  }
 },
 "nbformat": 4,
 "nbformat_minor": 5
}
